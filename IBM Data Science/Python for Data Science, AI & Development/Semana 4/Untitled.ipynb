{
 "cells": [
  {
   "cell_type": "code",
   "execution_count": 2,
   "id": "5fe822ff",
   "metadata": {},
   "outputs": [
    {
     "name": "stdout",
     "output_type": "stream",
     "text": [
      "Defaulting to user installation because normal site-packages is not writeable\n",
      "Requirement already satisfied: pandas in c:\\programdata\\anaconda3\\lib\\site-packages (1.4.2)\n",
      "Requirement already satisfied: numpy>=1.18.5 in c:\\programdata\\anaconda3\\lib\\site-packages (from pandas) (1.21.5)\n",
      "Requirement already satisfied: pytz>=2020.1 in c:\\programdata\\anaconda3\\lib\\site-packages (from pandas) (2021.3)\n",
      "Requirement already satisfied: python-dateutil>=2.8.1 in c:\\programdata\\anaconda3\\lib\\site-packages (from pandas) (2.8.2)\n",
      "Requirement already satisfied: six>=1.5 in c:\\programdata\\anaconda3\\lib\\site-packages (from python-dateutil>=2.8.1->pandas) (1.16.0)\n",
      "Defaulting to user installation because normal site-packages is not writeable\n",
      "Requirement already satisfied: numpy in c:\\programdata\\anaconda3\\lib\\site-packages (1.21.5)\n"
     ]
    }
   ],
   "source": [
    "!pip install pandas\n",
    "!pip install numpy\n",
    "\n",
    "import pandas as pd\n",
    "import numpy as np"
   ]
  },
  {
   "cell_type": "code",
   "execution_count": 3,
   "id": "f2ba4c93",
   "metadata": {
    "scrolled": false
   },
   "outputs": [
    {
     "data": {
      "text/html": [
       "<div>\n",
       "<style scoped>\n",
       "    .dataframe tbody tr th:only-of-type {\n",
       "        vertical-align: middle;\n",
       "    }\n",
       "\n",
       "    .dataframe tbody tr th {\n",
       "        vertical-align: top;\n",
       "    }\n",
       "\n",
       "    .dataframe thead th {\n",
       "        text-align: right;\n",
       "    }\n",
       "</style>\n",
       "<table border=\"1\" class=\"dataframe\">\n",
       "  <thead>\n",
       "    <tr style=\"text-align: right;\">\n",
       "      <th></th>\n",
       "      <th>Logro: Eje</th>\n",
       "      <th>Logro: Tipo de registro</th>\n",
       "      <th>Año</th>\n",
       "      <th>Cadena</th>\n",
       "      <th>Valor</th>\n",
       "    </tr>\n",
       "  </thead>\n",
       "  <tbody>\n",
       "    <tr>\n",
       "      <th>0</th>\n",
       "      <td>Exportaciones</td>\n",
       "      <td>Monto de Exportación</td>\n",
       "      <td>2009</td>\n",
       "      <td>Agroalimentos</td>\n",
       "      <td>163260.0</td>\n",
       "    </tr>\n",
       "    <tr>\n",
       "      <th>1</th>\n",
       "      <td>Exportaciones</td>\n",
       "      <td>Monto de Exportación</td>\n",
       "      <td>2009</td>\n",
       "      <td>Químicos y ciencias de la vida</td>\n",
       "      <td>15453.0</td>\n",
       "    </tr>\n",
       "    <tr>\n",
       "      <th>2</th>\n",
       "      <td>Exportaciones</td>\n",
       "      <td>Monto de Exportación</td>\n",
       "      <td>2009</td>\n",
       "      <td>Químicos y ciencias de la vida</td>\n",
       "      <td>31558.0</td>\n",
       "    </tr>\n",
       "    <tr>\n",
       "      <th>3</th>\n",
       "      <td>Exportaciones</td>\n",
       "      <td>Monto de Exportación</td>\n",
       "      <td>2009</td>\n",
       "      <td>Otros</td>\n",
       "      <td>1607000.0</td>\n",
       "    </tr>\n",
       "    <tr>\n",
       "      <th>4</th>\n",
       "      <td>Exportaciones</td>\n",
       "      <td>Monto de Exportación</td>\n",
       "      <td>2009</td>\n",
       "      <td>Agroalimentos</td>\n",
       "      <td>49900.0</td>\n",
       "    </tr>\n",
       "  </tbody>\n",
       "</table>\n",
       "</div>"
      ],
      "text/plain": [
       "      Logro: Eje Logro: Tipo de registro   Año  \\\n",
       "0  Exportaciones    Monto de Exportación  2009   \n",
       "1  Exportaciones    Monto de Exportación  2009   \n",
       "2  Exportaciones    Monto de Exportación  2009   \n",
       "3  Exportaciones    Monto de Exportación  2009   \n",
       "4  Exportaciones    Monto de Exportación  2009   \n",
       "\n",
       "                           Cadena      Valor  \n",
       "0                   Agroalimentos   163260.0  \n",
       "1  Químicos y ciencias de la vida    15453.0  \n",
       "2  Químicos y ciencias de la vida    31558.0  \n",
       "3                           Otros  1607000.0  \n",
       "4                   Agroalimentos    49900.0  "
      ]
     },
     "execution_count": 3,
     "metadata": {},
     "output_type": "execute_result"
    }
   ],
   "source": [
    "file1 = pd.read_excel(io='C:/Users/Lenovo/Downloads/Archivo.xlsx' , sheet_name='Python')\n",
    "file1.head()"
   ]
  },
  {
   "cell_type": "code",
   "execution_count": 8,
   "id": "57599de8",
   "metadata": {
    "scrolled": true
   },
   "outputs": [
    {
     "name": "stdout",
     "output_type": "stream",
     "text": [
      "Group by Año is:\n",
      "              Valor\n",
      "Año               \n",
      "2009  1.094446e+09\n",
      "2010  1.140488e+09\n",
      "2011  1.369046e+09\n",
      "2012  1.554111e+09\n",
      "2013  1.977499e+09\n"
     ]
    }
   ],
   "source": [
    "g_sum = file1.groupby(['Año']).sum()\n",
    "print(\"Group by Año is:\\n\", g_sum)"
   ]
  }
 ],
 "metadata": {
  "kernelspec": {
   "display_name": "Python 3 (ipykernel)",
   "language": "python",
   "name": "python3"
  },
  "language_info": {
   "codemirror_mode": {
    "name": "ipython",
    "version": 3
   },
   "file_extension": ".py",
   "mimetype": "text/x-python",
   "name": "python",
   "nbconvert_exporter": "python",
   "pygments_lexer": "ipython3",
   "version": "3.9.12"
  }
 },
 "nbformat": 4,
 "nbformat_minor": 5
}
